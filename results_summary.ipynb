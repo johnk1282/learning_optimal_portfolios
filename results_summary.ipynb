{
 "cells": [
  {
   "cell_type": "markdown",
   "metadata": {},
   "source": [
    "# Non-linear features & learning optimal portfolios\n",
    "Given a set of stock characteristics, the problem of finding features (i.e. factors) that predict returns and optimizing a portfolio of those features in order to maximize out-of-sample performance can be expressed as a learning problem with neural network architectures. Gu et al (2018) apply neural network architectures to the task of predicting returns, suggesting that non-linearities and interactions matter. Brandt et al (2004) shows that directly estimating portfolio weights with stock characteristics outperforms benchmark portfolio optimization methods. This notebook aims directly estimate portfolio weights as functions of stock characteristics, but using non-linear neural network architectures trained at portfolio optimization tasks.\n",
    "## Background on portfolio optimization problem\n",
    "\n",
    "The portfolio optimization problem is to find weights $w_{i,t}$ to maximize the expectation of some utility function of future portfolio returns $U(R_{t+1})$ where portfolio returns $R_{t+1} = \\sum_i{w_{i,t}r_{i,t+1}}$. The weights can be parametrized as some function of the stock characteristics vector $w_{i,t} = f(x_{i,t})$, and the learning process is the find the arbitrary function $f$ that maximizes out-of-sample utility. \n",
    "\n",
    "In this analysis, I use the Sharpe ratio of long-short portfolio returns as my utility function and use neural network architectures to try to estimate the unknown function $f$. As a benchmark, I use a linear model, $f(x_{i,t})=p^Tx_{i,t}$ where $p$ is a parameter vector. Results are robust to using regularization in the benchmark model. \n",
    "## Summary of data processing steps\n",
    "\n",
    "The get_characteristics function in process_data.py downloads data from WRDS (CRSP, Compustat, IBES, etc.), calculates commonly used stock characteristics, and normalizes the resulting dataframe. Note that train_models.py has functions to partition the data for training, validation, and testing, create models for various hyperparameter specifications, and save models after training. Results from these steps will be shown below."
   ]
  },
  {
   "cell_type": "code",
   "execution_count": 35,
   "metadata": {},
   "outputs": [],
   "source": [
    "from process_data import get_characteristics\n",
    "from train_models import format_data_for_models, get_model_specs, train_and_save_model, loss_sharpe\n",
    "import os\n",
    "import pickle\n",
    "import pandas as pd\n",
    "import numpy as np\n",
    "np.random.seed(0)\n",
    "import tensorflow as tf\n",
    "import tensorflow.keras.backend as K\n",
    "import matplotlib.pyplot as plt"
   ]
  },
  {
   "cell_type": "markdown",
   "metadata": {},
   "source": [
    "The characteristics data contains 1,980,679 firm-month observations from January 1960 through March 2019. Each observation is a vector of 280 commonly used characteristics (i.e. technical indicators, valuation ratios, quality measures, analyst estimates). For each characteristic there is a raw and industry-adjusted version, and many characteristics are highly correlated (for example, valuation ratios with slightly different accounting definitions, and versions of fundamental characteristics that are forward-filled for up to 12-months). "
   ]
  },
  {
   "cell_type": "code",
   "execution_count": 8,
   "metadata": {},
   "outputs": [
    {
     "data": {
      "text/plain": [
       "(1980679, 280)"
      ]
     },
     "execution_count": 8,
     "metadata": {},
     "output_type": "execute_result"
    }
   ],
   "source": [
    "df = get_characteristics()\n",
    "df.shape"
   ]
  },
  {
   "cell_type": "code",
   "execution_count": 9,
   "metadata": {},
   "outputs": [
    {
     "data": {
      "text/html": [
       "<div>\n",
       "<style scoped>\n",
       "    .dataframe tbody tr th:only-of-type {\n",
       "        vertical-align: middle;\n",
       "    }\n",
       "\n",
       "    .dataframe tbody tr th {\n",
       "        vertical-align: top;\n",
       "    }\n",
       "\n",
       "    .dataframe thead th {\n",
       "        text-align: right;\n",
       "    }\n",
       "</style>\n",
       "<table border=\"1\" class=\"dataframe\">\n",
       "  <thead>\n",
       "    <tr style=\"text-align: right;\">\n",
       "      <th></th>\n",
       "      <th></th>\n",
       "      <th>mean_5</th>\n",
       "      <th>mean_10</th>\n",
       "      <th>mean_22</th>\n",
       "      <th>mean_198</th>\n",
       "      <th>mean_252</th>\n",
       "      <th>mean_756</th>\n",
       "      <th>std_22</th>\n",
       "      <th>std_252</th>\n",
       "      <th>volume_5</th>\n",
       "      <th>volume_5_shrout</th>\n",
       "      <th>...</th>\n",
       "      <th>surprise_z_ia</th>\n",
       "      <th>chanalyst_ia</th>\n",
       "      <th>pchanalyst_ia</th>\n",
       "      <th>pe0_ia</th>\n",
       "      <th>pe1_ia</th>\n",
       "      <th>pe2_ia</th>\n",
       "      <th>pe3_ia</th>\n",
       "      <th>pe4_ia</th>\n",
       "      <th>pe5_ia</th>\n",
       "      <th>ltg_ia</th>\n",
       "    </tr>\n",
       "    <tr>\n",
       "      <th>permno</th>\n",
       "      <th>date</th>\n",
       "      <th></th>\n",
       "      <th></th>\n",
       "      <th></th>\n",
       "      <th></th>\n",
       "      <th></th>\n",
       "      <th></th>\n",
       "      <th></th>\n",
       "      <th></th>\n",
       "      <th></th>\n",
       "      <th></th>\n",
       "      <th></th>\n",
       "      <th></th>\n",
       "      <th></th>\n",
       "      <th></th>\n",
       "      <th></th>\n",
       "      <th></th>\n",
       "      <th></th>\n",
       "      <th></th>\n",
       "      <th></th>\n",
       "      <th></th>\n",
       "      <th></th>\n",
       "    </tr>\n",
       "  </thead>\n",
       "  <tbody>\n",
       "    <tr>\n",
       "      <th>10006.0</th>\n",
       "      <th>1960-01-01</th>\n",
       "      <td>-0.896284</td>\n",
       "      <td>-0.260869</td>\n",
       "      <td>-0.318628</td>\n",
       "      <td>NaN</td>\n",
       "      <td>NaN</td>\n",
       "      <td>NaN</td>\n",
       "      <td>-0.254434</td>\n",
       "      <td>NaN</td>\n",
       "      <td>-0.414886</td>\n",
       "      <td>-0.254666</td>\n",
       "      <td>...</td>\n",
       "      <td>NaN</td>\n",
       "      <td>NaN</td>\n",
       "      <td>NaN</td>\n",
       "      <td>NaN</td>\n",
       "      <td>NaN</td>\n",
       "      <td>NaN</td>\n",
       "      <td>NaN</td>\n",
       "      <td>NaN</td>\n",
       "      <td>NaN</td>\n",
       "      <td>NaN</td>\n",
       "    </tr>\n",
       "    <tr>\n",
       "      <th>10014.0</th>\n",
       "      <th>1960-01-01</th>\n",
       "      <td>-1.343426</td>\n",
       "      <td>-0.464544</td>\n",
       "      <td>-1.095499</td>\n",
       "      <td>-0.815115</td>\n",
       "      <td>0.428516</td>\n",
       "      <td>1.198570</td>\n",
       "      <td>0.877674</td>\n",
       "      <td>2.571398</td>\n",
       "      <td>-0.123750</td>\n",
       "      <td>0.098251</td>\n",
       "      <td>...</td>\n",
       "      <td>NaN</td>\n",
       "      <td>NaN</td>\n",
       "      <td>NaN</td>\n",
       "      <td>NaN</td>\n",
       "      <td>NaN</td>\n",
       "      <td>NaN</td>\n",
       "      <td>NaN</td>\n",
       "      <td>NaN</td>\n",
       "      <td>NaN</td>\n",
       "      <td>NaN</td>\n",
       "    </tr>\n",
       "    <tr>\n",
       "      <th>10022.0</th>\n",
       "      <th>1960-01-01</th>\n",
       "      <td>1.403910</td>\n",
       "      <td>1.489811</td>\n",
       "      <td>0.567477</td>\n",
       "      <td>0.560376</td>\n",
       "      <td>1.043213</td>\n",
       "      <td>1.377155</td>\n",
       "      <td>1.225888</td>\n",
       "      <td>0.793453</td>\n",
       "      <td>0.530111</td>\n",
       "      <td>1.383547</td>\n",
       "      <td>...</td>\n",
       "      <td>NaN</td>\n",
       "      <td>NaN</td>\n",
       "      <td>NaN</td>\n",
       "      <td>NaN</td>\n",
       "      <td>NaN</td>\n",
       "      <td>NaN</td>\n",
       "      <td>NaN</td>\n",
       "      <td>NaN</td>\n",
       "      <td>NaN</td>\n",
       "      <td>NaN</td>\n",
       "    </tr>\n",
       "    <tr>\n",
       "      <th>10030.0</th>\n",
       "      <th>1960-01-01</th>\n",
       "      <td>-0.326136</td>\n",
       "      <td>-1.502992</td>\n",
       "      <td>-0.086946</td>\n",
       "      <td>0.139154</td>\n",
       "      <td>0.096745</td>\n",
       "      <td>-0.320082</td>\n",
       "      <td>0.339977</td>\n",
       "      <td>-0.679396</td>\n",
       "      <td>-0.481704</td>\n",
       "      <td>-0.406583</td>\n",
       "      <td>...</td>\n",
       "      <td>NaN</td>\n",
       "      <td>NaN</td>\n",
       "      <td>NaN</td>\n",
       "      <td>NaN</td>\n",
       "      <td>NaN</td>\n",
       "      <td>NaN</td>\n",
       "      <td>NaN</td>\n",
       "      <td>NaN</td>\n",
       "      <td>NaN</td>\n",
       "      <td>NaN</td>\n",
       "    </tr>\n",
       "    <tr>\n",
       "      <th>10057.0</th>\n",
       "      <th>1960-01-01</th>\n",
       "      <td>-0.057002</td>\n",
       "      <td>-0.150390</td>\n",
       "      <td>0.832078</td>\n",
       "      <td>-0.213636</td>\n",
       "      <td>-0.125684</td>\n",
       "      <td>-1.284502</td>\n",
       "      <td>-0.707516</td>\n",
       "      <td>-0.485068</td>\n",
       "      <td>-0.553294</td>\n",
       "      <td>-0.350006</td>\n",
       "      <td>...</td>\n",
       "      <td>NaN</td>\n",
       "      <td>NaN</td>\n",
       "      <td>NaN</td>\n",
       "      <td>NaN</td>\n",
       "      <td>NaN</td>\n",
       "      <td>NaN</td>\n",
       "      <td>NaN</td>\n",
       "      <td>NaN</td>\n",
       "      <td>NaN</td>\n",
       "      <td>NaN</td>\n",
       "    </tr>\n",
       "  </tbody>\n",
       "</table>\n",
       "<p>5 rows × 280 columns</p>\n",
       "</div>"
      ],
      "text/plain": [
       "                      mean_5   mean_10   mean_22  mean_198  mean_252  \\\n",
       "permno  date                                                           \n",
       "10006.0 1960-01-01 -0.896284 -0.260869 -0.318628       NaN       NaN   \n",
       "10014.0 1960-01-01 -1.343426 -0.464544 -1.095499 -0.815115  0.428516   \n",
       "10022.0 1960-01-01  1.403910  1.489811  0.567477  0.560376  1.043213   \n",
       "10030.0 1960-01-01 -0.326136 -1.502992 -0.086946  0.139154  0.096745   \n",
       "10057.0 1960-01-01 -0.057002 -0.150390  0.832078 -0.213636 -0.125684   \n",
       "\n",
       "                    mean_756    std_22   std_252  volume_5  volume_5_shrout  \\\n",
       "permno  date                                                                  \n",
       "10006.0 1960-01-01       NaN -0.254434       NaN -0.414886        -0.254666   \n",
       "10014.0 1960-01-01  1.198570  0.877674  2.571398 -0.123750         0.098251   \n",
       "10022.0 1960-01-01  1.377155  1.225888  0.793453  0.530111         1.383547   \n",
       "10030.0 1960-01-01 -0.320082  0.339977 -0.679396 -0.481704        -0.406583   \n",
       "10057.0 1960-01-01 -1.284502 -0.707516 -0.485068 -0.553294        -0.350006   \n",
       "\n",
       "                    ...  surprise_z_ia  chanalyst_ia  pchanalyst_ia  pe0_ia  \\\n",
       "permno  date        ...                                                       \n",
       "10006.0 1960-01-01  ...            NaN           NaN            NaN     NaN   \n",
       "10014.0 1960-01-01  ...            NaN           NaN            NaN     NaN   \n",
       "10022.0 1960-01-01  ...            NaN           NaN            NaN     NaN   \n",
       "10030.0 1960-01-01  ...            NaN           NaN            NaN     NaN   \n",
       "10057.0 1960-01-01  ...            NaN           NaN            NaN     NaN   \n",
       "\n",
       "                    pe1_ia  pe2_ia  pe3_ia  pe4_ia  pe5_ia  ltg_ia  \n",
       "permno  date                                                        \n",
       "10006.0 1960-01-01     NaN     NaN     NaN     NaN     NaN     NaN  \n",
       "10014.0 1960-01-01     NaN     NaN     NaN     NaN     NaN     NaN  \n",
       "10022.0 1960-01-01     NaN     NaN     NaN     NaN     NaN     NaN  \n",
       "10030.0 1960-01-01     NaN     NaN     NaN     NaN     NaN     NaN  \n",
       "10057.0 1960-01-01     NaN     NaN     NaN     NaN     NaN     NaN  \n",
       "\n",
       "[5 rows x 280 columns]"
      ]
     },
     "execution_count": 9,
     "metadata": {},
     "output_type": "execute_result"
    }
   ],
   "source": [
    "df.head()"
   ]
  },
  {
   "cell_type": "markdown",
   "metadata": {},
   "source": [
    "The data is partitioned into train, validation, and test sets. For this analysis I hold out the last 30% of months for testing, and randomly select 40% of the remaining months for validation. The other important step is padding each month with zeros to have exactly n_stocks of observations (in this case 3000). This is because the loss_sharpe loss function reshapes the data to calculate long-short portfolio returns. "
   ]
  },
  {
   "cell_type": "code",
   "execution_count": 53,
   "metadata": {},
   "outputs": [
    {
     "data": {
      "text/plain": [
       "((894000, 280), (597000, 280), (642000, 280))"
      ]
     },
     "execution_count": 53,
     "metadata": {},
     "output_type": "execute_result"
    }
   ],
   "source": [
    "data = format_data_for_models(df)\n",
    "data['X_train'].shape,data['X_val'].shape,data['X_test'].shape"
   ]
  },
  {
   "cell_type": "markdown",
   "metadata": {},
   "source": [
    "## Results\n",
    "\n",
    "Hyperparameter specifications are generated and models/results are saved based on those specifications. This analysis only considers a limited range of hyperparameters, and some are chosen by trial and error (see get_model_specs in train_models.py); results could be improved by doing a more thorough search. Here, the main hyperparameters are number of layers (n_layers=1,2,3), number of units in each layer (n_units=16,32,64), and amount of dropout (dropout=.25,.5,.75). \n",
    "\n",
    "Selected below are the 5 models that perform best in the validation set (based on Sharpe ratio of dollar-neutral long-short portfolios with leverage of 1). The simpler models (fewer layers and units) with more regularization tend to perform better out-of-sample. This isn't surprising given the low signal-to-noise issue with return data. More work could be done to try to deal with this issue (i.e. more/different types of regularization, different loss functions such as converting returns to ranks, etc).    "
   ]
  },
  {
   "cell_type": "code",
   "execution_count": 24,
   "metadata": {
    "scrolled": true
   },
   "outputs": [
    {
     "data": {
      "text/html": [
       "<div>\n",
       "<style scoped>\n",
       "    .dataframe tbody tr th:only-of-type {\n",
       "        vertical-align: middle;\n",
       "    }\n",
       "\n",
       "    .dataframe tbody tr th {\n",
       "        vertical-align: top;\n",
       "    }\n",
       "\n",
       "    .dataframe thead th {\n",
       "        text-align: right;\n",
       "    }\n",
       "</style>\n",
       "<table border=\"1\" class=\"dataframe\">\n",
       "  <thead>\n",
       "    <tr style=\"text-align: right;\">\n",
       "      <th></th>\n",
       "      <th>linear</th>\n",
       "      <th>lr</th>\n",
       "      <th>n_layers</th>\n",
       "      <th>n_units</th>\n",
       "      <th>dropout</th>\n",
       "      <th>train_sharpe</th>\n",
       "      <th>val_sharpe</th>\n",
       "      <th>test_sharpe</th>\n",
       "      <th>l1_penalty</th>\n",
       "    </tr>\n",
       "  </thead>\n",
       "  <tbody>\n",
       "    <tr>\n",
       "      <th>7</th>\n",
       "      <td>False</td>\n",
       "      <td>0.01</td>\n",
       "      <td>1</td>\n",
       "      <td>64</td>\n",
       "      <td>0.75</td>\n",
       "      <td>1.99475</td>\n",
       "      <td>1.3809</td>\n",
       "      <td>0.652103</td>\n",
       "      <td>NaN</td>\n",
       "    </tr>\n",
       "    <tr>\n",
       "      <th>1</th>\n",
       "      <td>False</td>\n",
       "      <td>0.01</td>\n",
       "      <td>1</td>\n",
       "      <td>16</td>\n",
       "      <td>0.75</td>\n",
       "      <td>2.22569</td>\n",
       "      <td>1.40807</td>\n",
       "      <td>0.565593</td>\n",
       "      <td>NaN</td>\n",
       "    </tr>\n",
       "    <tr>\n",
       "      <th>12</th>\n",
       "      <td>False</td>\n",
       "      <td>0.01</td>\n",
       "      <td>2</td>\n",
       "      <td>32</td>\n",
       "      <td>0.5</td>\n",
       "      <td>2.25913</td>\n",
       "      <td>1.42017</td>\n",
       "      <td>0.640601</td>\n",
       "      <td>NaN</td>\n",
       "    </tr>\n",
       "    <tr>\n",
       "      <th>10</th>\n",
       "      <td>False</td>\n",
       "      <td>0.01</td>\n",
       "      <td>2</td>\n",
       "      <td>16</td>\n",
       "      <td>0.75</td>\n",
       "      <td>2.16908</td>\n",
       "      <td>1.43078</td>\n",
       "      <td>0.540291</td>\n",
       "      <td>NaN</td>\n",
       "    </tr>\n",
       "    <tr>\n",
       "      <th>4</th>\n",
       "      <td>False</td>\n",
       "      <td>0.01</td>\n",
       "      <td>1</td>\n",
       "      <td>32</td>\n",
       "      <td>0.75</td>\n",
       "      <td>2.35029</td>\n",
       "      <td>1.44979</td>\n",
       "      <td>0.562796</td>\n",
       "      <td>NaN</td>\n",
       "    </tr>\n",
       "  </tbody>\n",
       "</table>\n",
       "</div>"
      ],
      "text/plain": [
       "   linear    lr n_layers n_units dropout train_sharpe val_sharpe test_sharpe  \\\n",
       "7   False  0.01        1      64    0.75      1.99475     1.3809    0.652103   \n",
       "1   False  0.01        1      16    0.75      2.22569    1.40807    0.565593   \n",
       "12  False  0.01        2      32     0.5      2.25913    1.42017    0.640601   \n",
       "10  False  0.01        2      16    0.75      2.16908    1.43078    0.540291   \n",
       "4   False  0.01        1      32    0.75      2.35029    1.44979    0.562796   \n",
       "\n",
       "   l1_penalty  \n",
       "7         NaN  \n",
       "1         NaN  \n",
       "12        NaN  \n",
       "10        NaN  \n",
       "4         NaN  "
      ]
     },
     "execution_count": 24,
     "metadata": {},
     "output_type": "execute_result"
    }
   ],
   "source": [
    "specs = get_model_specs()\n",
    "##train and save models from specifications \n",
    "#for i,spec in model_specs.items():\n",
    "#    train_and_save_model(data,i,**spec)\n",
    "#    K.clear_session()\n",
    "with open('models/model_returns.p','rb') as f:\n",
    "    model_returns = pickle.load(f)\n",
    "with open('models/model_weights.p','rb') as f:\n",
    "    model_weights = pickle.load(f)\n",
    "#calculate Sharpe ratio on train, validation, and test sets\n",
    "for mod,mod_dict in model_returns.items():\n",
    "    for datatype,ret in mod_dict.items():\n",
    "        specs[mod][datatype+'_sharpe'] = np.mean(ret)/np.std(ret)\n",
    "model_summary = pd.DataFrame(specs).T\n",
    "top_5_models = list(model_summary.loc[model_summary.linear==False].sort_values(by=['val_sharpe'])[-5:].index)\n",
    "model_summary.loc[top_5_models]"
   ]
  },
  {
   "cell_type": "markdown",
   "metadata": {},
   "source": [
    "Selected below is the benchmark linear model. Note that the selected non-linear models perform between 18% and 42% better than the benchmark based on out-of-sample Sharpe ratio."
   ]
  },
  {
   "cell_type": "code",
   "execution_count": 32,
   "metadata": {},
   "outputs": [
    {
     "data": {
      "text/html": [
       "<div>\n",
       "<style scoped>\n",
       "    .dataframe tbody tr th:only-of-type {\n",
       "        vertical-align: middle;\n",
       "    }\n",
       "\n",
       "    .dataframe tbody tr th {\n",
       "        vertical-align: top;\n",
       "    }\n",
       "\n",
       "    .dataframe thead th {\n",
       "        text-align: right;\n",
       "    }\n",
       "</style>\n",
       "<table border=\"1\" class=\"dataframe\">\n",
       "  <thead>\n",
       "    <tr style=\"text-align: right;\">\n",
       "      <th></th>\n",
       "      <th>linear</th>\n",
       "      <th>lr</th>\n",
       "      <th>n_layers</th>\n",
       "      <th>n_units</th>\n",
       "      <th>dropout</th>\n",
       "      <th>train_sharpe</th>\n",
       "      <th>val_sharpe</th>\n",
       "      <th>test_sharpe</th>\n",
       "      <th>l1_penalty</th>\n",
       "    </tr>\n",
       "  </thead>\n",
       "  <tbody>\n",
       "    <tr>\n",
       "      <th>27</th>\n",
       "      <td>True</td>\n",
       "      <td>0.0120306</td>\n",
       "      <td>NaN</td>\n",
       "      <td>NaN</td>\n",
       "      <td>NaN</td>\n",
       "      <td>1.93713</td>\n",
       "      <td>1.15212</td>\n",
       "      <td>0.458745</td>\n",
       "      <td>0</td>\n",
       "    </tr>\n",
       "  </tbody>\n",
       "</table>\n",
       "</div>"
      ],
      "text/plain": [
       "   linear         lr n_layers n_units dropout train_sharpe val_sharpe  \\\n",
       "27   True  0.0120306      NaN     NaN     NaN      1.93713    1.15212   \n",
       "\n",
       "   test_sharpe l1_penalty  \n",
       "27    0.458745          0  "
      ]
     },
     "execution_count": 32,
     "metadata": {},
     "output_type": "execute_result"
    }
   ],
   "source": [
    "benchmark_model = list(model_summary.loc[model_summary.linear==True].sort_values(by=['val_sharpe']).loc[-1:].index)\n",
    "model_summary.loc[benchmark_model]"
   ]
  },
  {
   "cell_type": "markdown",
   "metadata": {},
   "source": [
    "Here we can visualize the performance of the non-linear models compared to the benchmark in the out-of-sample (test) period by plotting the cumulative long-short portfolio returns. Each of the models outperforms the benchmark, however, they are highly correlated indicates that there isn't a huge benefit to diversifying across models. There could be ways of adjusting the loss function to try to explicitly find diversifying strategies."
   ]
  },
  {
   "cell_type": "code",
   "execution_count": 56,
   "metadata": {},
   "outputs": [
    {
     "data": {
      "image/png": "[encoded data removed]",
      "text/plain": [
       "<Figure size 432x288 with 1 Axes>"
      ]
     },
     "metadata": {
      "needs_background": "light"
     },
     "output_type": "display_data"
    }
   ],
   "source": [
    "selected_returns = pd.concat([model_returns[i]['test'] for i in top_5_models+benchmark_model],1)\n",
    "selected_returns.columns = ['model_'+str(i) for i in top_5_models]+['benchmark']\n",
    "(1+selected_returns).cumprod().plot()\n",
    "plt.title('Cumulative Returns')\n",
    "plt.show()"
   ]
  },
  {
   "cell_type": "markdown",
   "metadata": {},
   "source": [
    "The code below calculates the average (linear) loadings on each characteristic using an example model (model 12, the third best performing on the validation set). We can see that the model negatively loads on short term reversal signals (5- and 10- day industry adjusted stock returns) and signals related to increases in debt. The model positively loads on a number of cash-flow based metrics (value, quality, momentum). "
   ]
  },
  {
   "cell_type": "code",
   "execution_count": 44,
   "metadata": {},
   "outputs": [
    {
     "data": {
      "text/plain": [
       "mean_10_ia             -220.555432\n",
       "mean_5_ia              -217.243272\n",
       "chdebt_asset_asof_ia   -203.671799\n",
       "td_d_ev_ia             -199.402682\n",
       "chdebt_asset_asof      -182.092492\n",
       "                           ...    \n",
       "cf_me_ia                270.395021\n",
       "cf_asset_asof_ia        308.727684\n",
       "cf_ev_ia                330.009003\n",
       "cf_momentum_asof        346.267143\n",
       "cf_momentum_asof_ia     357.936269\n",
       "Length: 280, dtype: float64"
      ]
     },
     "execution_count": 44,
     "metadata": {},
     "output_type": "execute_result"
    }
   ],
   "source": [
    "model = tf.keras.models.load_model('models/model_12.h5',custom_objects={'loss_sharpe':loss_sharpe})\n",
    "loadings_stock = model.predict(df.fillna(0).values)\n",
    "loadings_char = df.multiply(loadings_stock,0)\n",
    "loadings_char = loadings_char.groupby('date')[df.columns].sum()\n",
    "loadings_char.mean().sort_values()"
   ]
  },
  {
   "cell_type": "markdown",
   "metadata": {},
   "source": [
    "Below visualizes how well this specific model ranks stocks, by sorting into quintiles and plotting equal-weighted quintile portfolio returns over the test period. "
   ]
  },
  {
   "cell_type": "code",
   "execution_count": 57,
   "metadata": {},
   "outputs": [
    {
     "data": {
      "image/png": "[encoded data removed]",
      "text/plain": [
       "<Figure size 432x288 with 1 Axes>"
      ]
     },
     "metadata": {
      "needs_background": "light"
     },
     "output_type": "display_data"
    }
   ],
   "source": [
    "from process_data import get_crsp_m\n",
    "from pandas.tseries.offsets import *\n",
    "ranks = pd.DataFrame(loadings_stock,index=df.index,columns=['rank']).reset_index()\n",
    "crsp = get_crsp_m()\n",
    "crsp['date'] = pd.to_datetime(crsp['date'])-MonthBegin(1)\n",
    "ranks = ranks.reset_index().merge(crsp[['permno','date','retadj']],how='left',on=['permno','date'])\n",
    "ranks['quintile'] = ranks.groupby('date')['rank'].transform(lambda x: pd.qcut(x,5,labels=False,retbins=False,duplicates='drop'))\n",
    "rets = ranks.groupby(['date','quintile'])['retadj'].mean().unstack()\n",
    "rets = rets.loc[data['D_test']]\n",
    "(1+rets).cumprod().plot()\n",
    "plt.title('Cumulative Returns')\n",
    "plt.show()"
   ]
  },
  {
   "cell_type": "markdown",
   "metadata": {},
   "source": [
    "## Next steps\n",
    "\n",
    "1. Broaden hyperparameter search\n",
    "2. Try different types of regularization or different learning objectives aimes at low-signal to noise problem\n",
    "3. Penalize strategies that are correlated with linear strategies, if goal is finding non-linear features\n",
    "4. Re-train model over time (i.e. with an expanding window); examine extent to which parameters change over tiem and methods for finding stable parameters"
   ]
  }
 ],
 "metadata": {
  "kernelspec": {
   "display_name": "Python 3",
   "language": "python",
   "name": "python3"
  },
  "language_info": {
   "codemirror_mode": {
    "name": "ipython",
    "version": 3
   },
   "file_extension": ".py",
   "mimetype": "text/x-python",
   "name": "python",
   "nbconvert_exporter": "python",
   "pygments_lexer": "ipython3",
   "version": "3.6.8"
  }
 },
 "nbformat": 4,
 "nbformat_minor": 4
}
